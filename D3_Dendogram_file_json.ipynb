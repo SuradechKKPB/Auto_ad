{
 "cells": [
  {
   "cell_type": "code",
   "execution_count": 1,
   "metadata": {},
   "outputs": [],
   "source": [
    "from IPython.core.display import display, HTML\n",
    "from string import Template\n",
    "import pandas as pd\n",
    "import json, random"
   ]
  },
  {
   "cell_type": "code",
   "execution_count": 2,
   "metadata": {},
   "outputs": [],
   "source": [
    "#HTML('<script src=\"https://d3js.org/d3.v4.min.js\"></script>')\n",
    "filename_to_render = \"SACPP_2021_10_20_17_44\""
   ]
  },
  {
   "cell_type": "code",
   "execution_count": 3,
   "metadata": {},
   "outputs": [],
   "source": [
    "# JSON file\n",
    "f = open (filename_to_render+'.json', \"r\")\n",
    "  \n",
    "# Reading from file\n",
    "data = json.loads(f.read())"
   ]
  },
  {
   "cell_type": "code",
   "execution_count": 4,
   "metadata": {},
   "outputs": [],
   "source": [
    "css_text = '''\n",
    ".node circle {\n",
    "  fill: #999;\n",
    "}\n",
    "\n",
    ".node text {\n",
    "  font: 10px sans-serif;\n",
    "}\n",
    "\n",
    ".node--internal circle {\n",
    "  fill: #555;\n",
    "}\n",
    "\n",
    ".node--internal text {\n",
    "  text-shadow: 0 1px 0 #fff, 0 -1px 0 #fff, 1px 0 0 #fff, -1px 0 0 #fff;\n",
    "}\n",
    "\n",
    ".link {\n",
    "  fill: none;\n",
    "  stroke: #555;\n",
    "  stroke-opacity: 0.4;\n",
    "  stroke-width: 1.5px;\n",
    "}\n",
    "\n",
    "form {\n",
    "  font-family: \"Helvetica Neue\", Helvetica, Arial, sans-serif;\n",
    "  position: absolute;\n",
    "  left: 10px;\n",
    "  top: 10px;\n",
    "}\n",
    "\n",
    "label {\n",
    "  display: block;\n",
    "}\n",
    "\n",
    "'''"
   ]
  },
  {
   "cell_type": "code",
   "execution_count": 5,
   "metadata": {},
   "outputs": [],
   "source": [
    "js_text_template = Template('''\n",
    "\n",
    "    var svg = d3.select(\"svg\"),\n",
    "        width = +svg.attr(\"width\"),\n",
    "        height = +svg.attr(\"height\"),\n",
    "        g = svg.append(\"g\").attr(\"transform\", \"translate(40,0)\");\n",
    "    \n",
    "    var tree = d3.tree()\n",
    "        .size([height - 400, width - 160]);\n",
    "    \n",
    "    var cluster = d3.cluster()\n",
    "        .size([height, width - 160]);\n",
    "    \n",
    "    var stratify = d3.stratify()\n",
    "        .parentId(function(d) { return d.data.name });\n",
    "        \n",
    "// d3.csv(\"flare.csv\", function(error, data) {\n",
    "//   if (error) throw error;\n",
    "  var data = $python_data\n",
    "\n",
    "  var root = d3.hierarchy(data)\n",
    "        .sort((a, b) => d3.descending(a.height, b.height) || d3.ascending(a.data.name, b.data.name));\n",
    "    \n",
    "        cluster(root);\n",
    "\n",
    "        var link = g.selectAll(\".link\")\n",
    "            .data(root.descendants().slice(1))\n",
    "            .enter().append(\"path\")\n",
    "            .attr(\"class\", \"link\")\n",
    "            .attr(\"d\", diagonal);\n",
    "\n",
    "        var node = g.selectAll(\".node\")\n",
    "            .data(root.descendants())\n",
    "            .enter().append(\"g\")\n",
    "            .attr(\"class\", function(d) { return \"node\" + (d.children ? \" node--internal\" : \" node--leaf\"); })\n",
    "            .attr(\"transform\", function(d) { return \"translate(\" + d.y + \",\" + d.x + \")\"; });\n",
    "    \n",
    "        node.append(\"circle\")\n",
    "            .attr(\"r\", 2.5);\n",
    "    \n",
    "        node.append(\"text\")\n",
    "            .attr(\"dy\", 3)\n",
    "            .attr(\"x\", function(d) { return d.children ? -8 : 8; })\n",
    "            .style(\"text-anchor\", function(d) { return d.children ? \"end\" : \"start\"; })\n",
    "            .text(function(d) { return d.data.name; });\n",
    "    \n",
    "        d3.selectAll(\"input\")\n",
    "      .on(\"change\", changed);\n",
    "\n",
    "      var timeout = setTimeout(function() {\n",
    "         d3.select(\"input[value=\\\\\"tree\\\\\"]\")\n",
    "            .property(\"checked\", true)\n",
    "            .dispatch(\"change\");\n",
    "      }, 1000);\n",
    "    \n",
    "      function changed() {\n",
    "        timeout = clearTimeout(timeout);\n",
    "        (this.value === \"tree\" ? tree : cluster)(root);\n",
    "        var t = d3.transition().duration(750);\n",
    "        node.transition(t).attr(\"transform\", function(d) { return \"translate(\" + d.y + \",\" + d.x + \")\"; });\n",
    "        link.transition(t).attr(\"d\", diagonal);\n",
    "        }\n",
    "\n",
    "      function diagonal(d) {\n",
    "        return \"M\" + d.y + \",\" + d.x\n",
    "            + \"C\" + (d.parent.y + 100) + \",\" + d.x\n",
    "            + \" \" + (d.parent.y + 100) + \",\" + d.parent.x\n",
    "            + \" \" + d.parent.y + \",\" + d.parent.x;\n",
    "        }\n",
    "//});\n",
    "\n",
    "''')"
   ]
  },
  {
   "cell_type": "code",
   "execution_count": 6,
   "metadata": {},
   "outputs": [],
   "source": [
    "html_template = Template('''\n",
    "<style> $css_text </style>\n",
    "<form>\n",
    "  <label><input type=\"radio\" name=\"mode\" value=\"cluster\" checked> Dendrogram</label>\n",
    "  <label><input type=\"radio\" name=\"mode\" value=\"tree\"> Tree</label>\n",
    "</form>\n",
    "<svg width=\"960\" height=\"2400\"></svg>\n",
    "<script src=\"https://d3js.org/d3.v4.min.js\"></script>\n",
    "<script> $js_text </script>\n",
    "''')"
   ]
  },
  {
   "cell_type": "code",
   "execution_count": 7,
   "metadata": {
    "scrolled": true
   },
   "outputs": [],
   "source": [
    "js_text = js_text_template.substitute({'python_data': data})\n",
    "#HTML(html_template.substitute({'css_text': css_text, 'js_text': js_text}))"
   ]
  },
  {
   "cell_type": "code",
   "execution_count": 8,
   "metadata": {},
   "outputs": [],
   "source": [
    "#data = HTML(html_template.substitute({'css_text': css_text, 'js_text': js_text})).data"
   ]
  },
  {
   "cell_type": "code",
   "execution_count": 9,
   "metadata": {},
   "outputs": [],
   "source": [
    "with open(filename_to_render+'.html', 'w') as outf:\n",
    "    outf.write(html_template.substitute({'css_text': css_text, 'js_text': js_text}))\n",
    "outf.close()"
   ]
  },
  {
   "cell_type": "code",
   "execution_count": 10,
   "metadata": {},
   "outputs": [
    {
     "data": {
      "text/plain": [
       "False"
      ]
     },
     "execution_count": 10,
     "metadata": {},
     "output_type": "execute_result"
    }
   ],
   "source": [
    "import webbrowser,os\n",
    "webbrowser.open('file://' + os.path.realpath(filename_to_render+'.html'))"
   ]
  },
  {
   "cell_type": "code",
   "execution_count": null,
   "metadata": {},
   "outputs": [],
   "source": []
  }
 ],
 "metadata": {
  "kernelspec": {
   "display_name": "Python 3 (ipykernel)",
   "language": "python",
   "name": "python3"
  },
  "language_info": {
   "codemirror_mode": {
    "name": "ipython",
    "version": 3
   },
   "file_extension": ".py",
   "mimetype": "text/x-python",
   "name": "python",
   "nbconvert_exporter": "python",
   "pygments_lexer": "ipython3",
   "version": "3.8.8"
  }
 },
 "nbformat": 4,
 "nbformat_minor": 4
}
