{
 "cells": [
  {
   "cell_type": "code",
   "execution_count": null,
   "id": "medium-muscle",
   "metadata": {},
   "outputs": [],
   "source": [
    "%load_ext autoreload\n",
    "%autoreload 2\n",
    "import autoad as ad\n",
    "import gradio as gr"
   ]
  },
  {
   "cell_type": "code",
   "execution_count": 3,
   "id": "hearing-plain",
   "metadata": {},
   "outputs": [
    {
     "ename": "NameError",
     "evalue": "name 'gr' is not defined",
     "output_type": "error",
     "traceback": [
      "\u001b[0;31m---------------------------------------------------------------------------\u001b[0m",
      "\u001b[0;31mNameError\u001b[0m                                 Traceback (most recent call last)",
      "\u001b[0;32m<ipython-input-3-4ae39aa3306c>\u001b[0m in \u001b[0;36m<module>\u001b[0;34m\u001b[0m\n\u001b[1;32m      5\u001b[0m             'Skids_SA-GGC2090-SACPP', 'Skids_SA-GGC2320-SACPP']\n\u001b[1;32m      6\u001b[0m \u001b[0;34m\u001b[0m\u001b[0m\n\u001b[0;32m----> 7\u001b[0;31m \u001b[0mstart_date\u001b[0m \u001b[0;34m=\u001b[0m \u001b[0mgr\u001b[0m\u001b[0;34m.\u001b[0m\u001b[0minputs\u001b[0m\u001b[0;34m.\u001b[0m\u001b[0mTextbox\u001b[0m\u001b[0;34m(\u001b[0m\u001b[0mlines\u001b[0m\u001b[0;34m=\u001b[0m\u001b[0;36m1\u001b[0m\u001b[0;34m,\u001b[0m \u001b[0mdefault\u001b[0m\u001b[0;34m=\u001b[0m\u001b[0;34m\"2020-01-01\"\u001b[0m\u001b[0;34m,\u001b[0m \u001b[0mlabel\u001b[0m\u001b[0;34m=\u001b[0m\u001b[0;34m\"Start Date (Year-Month-Date Thailand time)\"\u001b[0m\u001b[0;34m)\u001b[0m\u001b[0;34m\u001b[0m\u001b[0;34m\u001b[0m\u001b[0m\n\u001b[0m\u001b[1;32m      8\u001b[0m \u001b[0mend_date\u001b[0m \u001b[0;34m=\u001b[0m \u001b[0mgr\u001b[0m\u001b[0;34m.\u001b[0m\u001b[0minputs\u001b[0m\u001b[0;34m.\u001b[0m\u001b[0mTextbox\u001b[0m\u001b[0;34m(\u001b[0m\u001b[0mlines\u001b[0m\u001b[0;34m=\u001b[0m\u001b[0;36m1\u001b[0m\u001b[0;34m,\u001b[0m \u001b[0mdefault\u001b[0m\u001b[0;34m=\u001b[0m\u001b[0;34m\"2020-01-07\"\u001b[0m\u001b[0;34m,\u001b[0m \u001b[0mlabel\u001b[0m\u001b[0;34m=\u001b[0m\u001b[0;34m\"End Date (Year-Month-Date Thailand time)\"\u001b[0m\u001b[0;34m)\u001b[0m\u001b[0;34m\u001b[0m\u001b[0;34m\u001b[0m\u001b[0m\n\u001b[1;32m      9\u001b[0m \u001b[0mfrequency_method\u001b[0m \u001b[0;34m=\u001b[0m \u001b[0mgr\u001b[0m\u001b[0;34m.\u001b[0m\u001b[0minputs\u001b[0m\u001b[0;34m.\u001b[0m\u001b[0mDropdown\u001b[0m\u001b[0;34m(\u001b[0m\u001b[0;34m[\u001b[0m\u001b[0;34m'15 s'\u001b[0m\u001b[0;34m,\u001b[0m \u001b[0;34m'1 min'\u001b[0m\u001b[0;34m,\u001b[0m \u001b[0;34m'15 min'\u001b[0m\u001b[0;34m,\u001b[0m \u001b[0;34m'30 min'\u001b[0m\u001b[0;34m,\u001b[0m \u001b[0;34m'24 h'\u001b[0m\u001b[0;34m]\u001b[0m\u001b[0;34m,\u001b[0m \u001b[0mlabel\u001b[0m\u001b[0;34m=\u001b[0m\u001b[0;34m\"Sampling frequency\"\u001b[0m\u001b[0;34m)\u001b[0m\u001b[0;34m\u001b[0m\u001b[0;34m\u001b[0m\u001b[0m\n",
      "\u001b[0;31mNameError\u001b[0m: name 'gr' is not defined"
     ]
    }
   ],
   "source": [
    "main_category = ['Coolers', '3 Phase Separators', 'Pumps', 'Glycol Contactors', '2 Phase Separators', 'Stabilizer Reboilers', \n",
    "            'Hydrocyclones', 'Filter Coalescers', 'Filters', 'Compressor-Expander Skids', 'WHRUs', 'Glycol Reboilers', \n",
    "            'Receivers', 'Launchers', 'Exchangers', 'Heaters', 'Glycol Flashs', 'IGFs', 'Stabilizers', 'Screw Compressors', \n",
    "            'Sales Gas Meters', 'Condensate Meters', 'Air Systems', 'Storage Tanks', 'Generator Skids', 'Sales Gas', \n",
    "            'Skids_SA-GGC2090-SACPP', 'Skids_SA-GGC2320-SACPP']\n",
    "\n",
    "start_date = gr.inputs.Textbox(lines=1, default=\"2020-01-01\", label=\"Start Date (Year-Month-Date Thailand time)\")\n",
    "end_date = gr.inputs.Textbox(lines=1, default=\"2020-01-07\", label=\"End Date (Year-Month-Date Thailand time)\")\n",
    "frequency_method = gr.inputs.Dropdown(['15 s', '1 min', '15 min', '30 min', '24 h'], label=\"Sampling frequency\")\n",
    "selected_CPP = gr.inputs.Radio(['SACPP', 'PACPP', 'FUWC', 'Benchamas', 'NPCPP'], label=\"Select CPP\")\n",
    "level_chkbox = gr.inputs.Checkbox(label=\"Level?\")\n",
    "tags_main_picker = gr.inputs.CheckboxGroup(main_category, label=\"Category\")\n",
    "granger_picker = gr.inputs.Radio(['Clustering (Indented Tree)', 'Granger Casuality Test'],label='Method')\n",
    "granger_txt = gr.inputs.Textbox(lines=1, label='First Out Tag (Required for Granger Casuality Test Only) Example: CEN_LIC2720_PV Liquid Level')\n",
    "\n",
    "gr.Interface(\n",
    "    ad.autoAD_clustering, \n",
    "    [\n",
    "        start_date, \n",
    "        end_date, \n",
    "        frequency_method,\n",
    "        selected_CPP,\n",
    "        level_chkbox,\n",
    "        tags_main_picker,\n",
    "        granger_picker,\n",
    "        granger_txt\n",
    "    ], \n",
    "    #gr.outputs.Image(plot=True, label=\"clustering\"), title=\"AUTO-AD\",\n",
    "    gr.outputs.Textbox(label=\"Result\"),\n",
    "    allow_flagging = False).launch(share = True)"
   ]
  },
  {
   "cell_type": "code",
   "execution_count": null,
   "id": "forty-seating",
   "metadata": {},
   "outputs": [],
   "source": []
  }
 ],
 "metadata": {
  "kernelspec": {
   "display_name": "Python 3",
   "language": "python",
   "name": "python3"
  },
  "language_info": {
   "codemirror_mode": {
    "name": "ipython",
    "version": 3
   },
   "file_extension": ".py",
   "mimetype": "text/x-python",
   "name": "python",
   "nbconvert_exporter": "python",
   "pygments_lexer": "ipython3",
   "version": "3.8.8"
  }
 },
 "nbformat": 4,
 "nbformat_minor": 5
}
