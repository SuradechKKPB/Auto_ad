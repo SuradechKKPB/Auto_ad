{
 "cells": [
  {
   "cell_type": "code",
   "execution_count": 29,
   "metadata": {},
   "outputs": [],
   "source": [
    "#import modules\n",
    "import pandas as pd\n",
    "import numpy as np\n",
    "import matplotlib.pyplot as plt\n",
    "import scipy.stats as stats\n",
    "import statsmodels.api as sm\n",
    "import math\n",
    "import networkx\n",
    "import PIconnect as PI"
   ]
  },
  {
   "cell_type": "code",
   "execution_count": 38,
   "metadata": {},
   "outputs": [
    {
     "name": "stdout",
     "output_type": "stream",
     "text": [
      "2020-09-03 06:36:27+00:00    11.5\n",
      "2020-09-03 06:41:27+00:00    11.5\n",
      "2020-09-03 06:46:27+00:00    11.5\n",
      "2020-09-03 06:51:27+00:00    11.5\n",
      "2020-09-03 06:56:27+00:00    11.5\n",
      "2020-09-03 07:01:27+00:00    11.5\n",
      "2020-09-03 07:06:27+00:00    11.5\n",
      "2020-09-03 07:11:27+00:00    11.5\n",
      "2020-09-03 07:16:27+00:00    11.5\n",
      "2020-09-03 07:21:27+00:00    11.5\n",
      "2020-09-03 07:26:27+00:00    11.5\n",
      "2020-09-03 07:31:27+00:00    11.5\n",
      "2020-09-03 07:36:27+00:00    11.5\n",
      "Name: SACPP_AF_RVP_TARGET, dtype: float64\n"
     ]
    }
   ],
   "source": [
    "with PI.PIServer() as server:\n",
    "    points = server.search('SACPP_CEN_TI2290_PV')[0]\n",
    "    points = server.search('SACPP_AF_RVP_TARGET')[0]\n",
    "    data = points.interpolated_values('*-1h','*','5m')\n",
    "    print(data)"
   ]
  },
  {
   "cell_type": "code",
   "execution_count": 39,
   "metadata": {},
   "outputs": [],
   "source": [
    "df=pd.read_csv(r'C:\\Users\\szjt\\OneDrive - Chevron\\Data Analytic Pipeline\\SACPP Tag.csv')"
   ]
  },
  {
   "cell_type": "code",
   "execution_count": 43,
   "metadata": {},
   "outputs": [
    {
     "data": {
      "text/html": [
       "<div>\n",
       "<style scoped>\n",
       "    .dataframe tbody tr th:only-of-type {\n",
       "        vertical-align: middle;\n",
       "    }\n",
       "\n",
       "    .dataframe tbody tr th {\n",
       "        vertical-align: top;\n",
       "    }\n",
       "\n",
       "    .dataframe thead th {\n",
       "        text-align: right;\n",
       "    }\n",
       "</style>\n",
       "<table border=\"1\" class=\"dataframe\">\n",
       "  <thead>\n",
       "    <tr style=\"text-align: right;\">\n",
       "      <th></th>\n",
       "      <th>full_tag</th>\n",
       "      <th>short_tag</th>\n",
       "    </tr>\n",
       "  </thead>\n",
       "  <tbody>\n",
       "    <tr>\n",
       "      <th>0</th>\n",
       "      <td>\\\\PIGILCollective\\SACPP_AF_RVP_TARGET</td>\n",
       "      <td>SACPP_AF_RVP_TARGET</td>\n",
       "    </tr>\n",
       "    <tr>\n",
       "      <th>1</th>\n",
       "      <td>\\\\PIGILCollective\\SACPP_Available_POSC_AF</td>\n",
       "      <td>SACPP_Available_POSC_AF</td>\n",
       "    </tr>\n",
       "    <tr>\n",
       "      <th>2</th>\n",
       "      <td>\\\\PIGILCollective\\SACPP_C2090_EST_FUEL_CONSUMP...</td>\n",
       "      <td>SACPP_C2090_EST_FUEL_CONSUMPTION</td>\n",
       "    </tr>\n",
       "    <tr>\n",
       "      <th>3</th>\n",
       "      <td>\\\\PIGILCollective\\SACPP_C2320_EST_FUEL_CONSUMP...</td>\n",
       "      <td>SACPP_C2320_EST_FUEL_CONSUMPTION</td>\n",
       "    </tr>\n",
       "    <tr>\n",
       "      <th>4</th>\n",
       "      <td>\\\\PIGILCollective\\SACPP_CEN_ PC1_A63QGGSC_PV</td>\n",
       "      <td>SACPP_CEN_ PC1_A63QGGSC_PV</td>\n",
       "    </tr>\n",
       "  </tbody>\n",
       "</table>\n",
       "</div>"
      ],
      "text/plain": [
       "                                            full_tag  \\\n",
       "0              \\\\PIGILCollective\\SACPP_AF_RVP_TARGET   \n",
       "1          \\\\PIGILCollective\\SACPP_Available_POSC_AF   \n",
       "2  \\\\PIGILCollective\\SACPP_C2090_EST_FUEL_CONSUMP...   \n",
       "3  \\\\PIGILCollective\\SACPP_C2320_EST_FUEL_CONSUMP...   \n",
       "4       \\\\PIGILCollective\\SACPP_CEN_ PC1_A63QGGSC_PV   \n",
       "\n",
       "                          short_tag  \n",
       "0               SACPP_AF_RVP_TARGET  \n",
       "1           SACPP_Available_POSC_AF  \n",
       "2  SACPP_C2090_EST_FUEL_CONSUMPTION  \n",
       "3  SACPP_C2320_EST_FUEL_CONSUMPTION  \n",
       "4        SACPP_CEN_ PC1_A63QGGSC_PV  "
      ]
     },
     "execution_count": 43,
     "metadata": {},
     "output_type": "execute_result"
    }
   ],
   "source": [
    "df.head()"
   ]
  },
  {
   "cell_type": "code",
   "execution_count": 42,
   "metadata": {},
   "outputs": [
    {
     "name": "stdout",
     "output_type": "stream",
     "text": [
      "2020-09-02 07:39:05.932000+00:00    11.5\n",
      "2020-09-02 08:39:05.932000+00:00    11.5\n",
      "2020-09-02 09:39:05.932000+00:00    11.5\n",
      "2020-09-02 10:39:05.932000+00:00    11.5\n",
      "2020-09-02 11:39:05.932000+00:00    11.5\n",
      "2020-09-02 12:39:05.932000+00:00    11.5\n",
      "2020-09-02 13:39:05.932000+00:00    11.5\n",
      "2020-09-02 14:39:05.932000+00:00    11.5\n",
      "2020-09-02 15:39:05.932000+00:00    11.5\n",
      "2020-09-02 16:39:05.932000+00:00    11.5\n",
      "2020-09-02 17:39:05.932000+00:00    11.5\n",
      "2020-09-02 18:39:05.932000+00:00    11.5\n",
      "2020-09-02 19:39:05.932000+00:00    11.5\n",
      "2020-09-02 20:39:05.932000+00:00    11.5\n",
      "2020-09-02 21:39:05.932000+00:00    11.5\n",
      "2020-09-02 22:39:05.932000+00:00    11.5\n",
      "2020-09-02 23:39:05.932000+00:00    11.5\n",
      "2020-09-03 00:39:05.932000+00:00    11.5\n",
      "2020-09-03 01:39:05.932000+00:00    11.5\n",
      "2020-09-03 02:39:05.932000+00:00    11.5\n",
      "2020-09-03 03:39:05.932000+00:00    11.5\n",
      "2020-09-03 04:39:05.932000+00:00    11.5\n",
      "2020-09-03 05:39:05.932000+00:00    11.5\n",
      "2020-09-03 06:39:05.932000+00:00    11.5\n",
      "2020-09-03 07:39:05.932000+00:00    11.5\n",
      "Name: SACPP_AF_RVP_TARGET, dtype: float64\n"
     ]
    }
   ],
   "source": [
    "with PI.PIServer() as server:\n",
    "    points = server.search(df['short_tag'][0])[0]\n",
    "    data = points.interpolated_values('*-24h','*','60m')\n",
    "    print(data)"
   ]
  },
  {
   "cell_type": "code",
   "execution_count": 7,
   "metadata": {},
   "outputs": [
    {
     "ename": "NameError",
     "evalue": "name 'plot' is not defined",
     "output_type": "error",
     "traceback": [
      "\u001b[1;31m---------------------------------------------------------------------------\u001b[0m",
      "\u001b[1;31mNameError\u001b[0m                                 Traceback (most recent call last)",
      "\u001b[1;32m<ipython-input-7-085f07c564e7>\u001b[0m in \u001b[0;36m<module>\u001b[1;34m\u001b[0m\n\u001b[1;32m----> 1\u001b[1;33m \u001b[0mplot\u001b[0m\u001b[1;33m(\u001b[0m\u001b[0mG\u001b[0m\u001b[1;33m)\u001b[0m\u001b[1;33m\u001b[0m\u001b[1;33m\u001b[0m\u001b[0m\n\u001b[0m",
      "\u001b[1;31mNameError\u001b[0m: name 'plot' is not defined"
     ]
    }
   ],
   "source": []
  },
  {
   "cell_type": "code",
   "execution_count": null,
   "metadata": {},
   "outputs": [],
   "source": []
  }
 ],
 "metadata": {
  "kernelspec": {
   "display_name": "Python 3",
   "language": "python",
   "name": "python3"
  },
  "language_info": {
   "codemirror_mode": {
    "name": "ipython",
    "version": 3
   },
   "file_extension": ".py",
   "mimetype": "text/x-python",
   "name": "python",
   "nbconvert_exporter": "python",
   "pygments_lexer": "ipython3",
   "version": "3.7.3"
  }
 },
 "nbformat": 4,
 "nbformat_minor": 2
}
